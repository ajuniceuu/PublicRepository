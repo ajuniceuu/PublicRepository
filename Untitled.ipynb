{
 "cells": [
  {
   "cell_type": "code",
   "execution_count": 9,
   "id": "5eb38ec4-0ec6-4bc3-8c4c-79c3bc64187c",
   "metadata": {},
   "outputs": [
    {
     "data": {
      "text/plain": [
       "'B'"
      ]
     },
     "execution_count": 9,
     "metadata": {},
     "output_type": "execute_result"
    }
   ],
   "source": [
    "def shift_letter(letter, shift):\n",
    "    if(letter==\" \"):\n",
    "        print(\" \")\n",
    "    elif(ord(letter)==90):\n",
    "        return chr(ord('A')+shift-1)\n",
    "    elif(ord(letter)+shift>=91):\n",
    "        return chr(ord(letter)+(shift%26))\n",
    "    else:\n",
    "        return chr(ord(letter)+shift)\n",
    "shift_letter(\"A\",27)"
   ]
  },
  {
   "cell_type": "code",
   "execution_count": 23,
   "id": "3ed9a992-e828-4849-9913-8661f4fa45f2",
   "metadata": {},
   "outputs": [
    {
     "data": {
      "text/plain": [
       "'BRX DUH DZHVRPH'"
      ]
     },
     "execution_count": 23,
     "metadata": {},
     "output_type": "execute_result"
    }
   ],
   "source": [
    "def encrypt_char(char, shift):\n",
    "    return chr(ord('A') + (ord(char) - ord('A') + shift) % 26)\n",
    "def caesar_cipher(message, shift):\n",
    "    cipher = ''\n",
    "    for char in message:\n",
    "        if char not in ' ':\n",
    "            cipher += encrypt_char(char, shift)\n",
    "        else:\n",
    "            cipher += char\n",
    "    return cipher\n",
    "caesar_cipher(\"YOU ARE AWESOME\", 3)\n",
    "\n",
    "    "
   ]
  },
  {
   "cell_type": "code",
   "execution_count": 55,
   "id": "5dad0c7a-e5d6-4476-9645-309f1806a424",
   "metadata": {},
   "outputs": [
    {
     "data": {
      "text/plain": [
       "'L'"
      ]
     },
     "execution_count": 55,
     "metadata": {},
     "output_type": "execute_result"
    }
   ],
   "source": [
    "def shift_by_letter(letter, letter_shift): \n",
    "    if (letter==\" \"):\n",
    "        print(\" \")\n",
    "    else:\n",
    "        return (chr((((ord(letter)-65+(ord(letter_shift)-65))%26)+65)))\n",
    "    \n",
    "shift_by_letter('B','K')"
   ]
  },
  {
   "cell_type": "code",
   "execution_count": null,
   "id": "b6dc8c14-0b66-486e-8806-18e7fed00172",
   "metadata": {},
   "outputs": [],
   "source": []
  }
 ],
 "metadata": {
  "kernelspec": {
   "display_name": "Python 3 (ipykernel)",
   "language": "python",
   "name": "python3"
  },
  "language_info": {
   "codemirror_mode": {
    "name": "ipython",
    "version": 3
   },
   "file_extension": ".py",
   "mimetype": "text/x-python",
   "name": "python",
   "nbconvert_exporter": "python",
   "pygments_lexer": "ipython3",
   "version": "3.9.12"
  }
 },
 "nbformat": 4,
 "nbformat_minor": 5
}
